{
 "cells": [
  {
   "cell_type": "code",
   "execution_count": 1,
   "metadata": {},
   "outputs": [],
   "source": [
    "from sklearn import datasets\n",
    "from sklearn.model_selection import train_test_split\n",
    "import numpy as np\n",
    "from sklearn.preprocessing import OneHotEncoder\n",
    "\n",
    "\n",
    "# The sigmoid activation function computes the sigmoids element-wise\n",
    "def sigmoid(x):\n",
    "    y = 1./(1+np.exp(-x));\n",
    "    return y\n",
    "\n",
    "np.random.seed(123456)\n",
    "\n",
    "data = datasets.load_digits()\n",
    "\n",
    "X = data['data']\n",
    "y = data['target']\n",
    "\n",
    "# get the one hot encoded data\n",
    "enc = OneHotEncoder(handle_unknown='ignore')\n",
    "enc.fit(y.reshape(-1, 1))\n",
    "y = enc.transform(y.reshape(-1, 1)).toarray()\n",
    "\n",
    "X_train, X_test, y_train, y_test = train_test_split(X, y, test_size=0.20, random_state=42)\n",
    "\n",
    "# scale train and test data to the range [0, 1]\n",
    "X_train /= X_train.max()\n",
    "X_test /= X_test.max()"
   ]
  },
  {
   "cell_type": "code",
   "execution_count": 2,
   "metadata": {},
   "outputs": [
    {
     "name": "stdout",
     "output_type": "stream",
     "text": [
      "(1437, 64)\n",
      "(1437, 10)\n"
     ]
    }
   ],
   "source": [
    "from sklearn import metrics\n",
    "print(X_train.shape)\n",
    "print(y_train.shape)\n"
   ]
  },
  {
   "cell_type": "code",
   "execution_count": 3,
   "metadata": {},
   "outputs": [],
   "source": [
    "def accuracy(predictions, labels):\n",
    "    preds_correct_boolean =  np.argmax(predictions, 1) == np.argmax(labels, 1)\n",
    "    correct_predictions = np.sum(preds_correct_boolean)\n",
    "    accuracy = 100.0 * correct_predictions / predictions.shape[0]\n",
    "    return accuracy\n"
   ]
  },
  {
   "cell_type": "code",
   "execution_count": 4,
   "metadata": {},
   "outputs": [],
   "source": [
    "class NeuralNetwork(object):\n",
    "    def __init__(self,learningrate,neurons):\n",
    "        #parameters\n",
    "        self.inputSize = 64\n",
    "        self.outputSize = 10\n",
    "        self.hiddenSize =neurons\n",
    "        self.learningrate=learningrate\n",
    "        #weights\n",
    "        self.W1 = np.random.randn(self.inputSize, self.hiddenSize) # (20x64) weight matrix from input to hidden layer, should be defined as the transpose of actual weight\n",
    "        self.W2 = np.random.randn(self.hiddenSize, self.outputSize) # (20x10)weight matrix from hidden to output layer,should be defined as the transpose of actual weight\n",
    "\n",
    "    def feedForward(self, X):\n",
    "        #forward propogation through the network\n",
    "        self.z = np.dot(X, self.W1) #dot product of X (input) and first set of w1\n",
    "        self.z2 = sigmoid(self.z) #activation function\n",
    "        self.z3 = np.dot(self.z2, self.W2) #dot product of hidden layer (z2) and second set of w2 \n",
    "        output = sigmoid(self.z3) #the last activation function because the question says the activation function should be included into the output layer\n",
    "        return output\n",
    "\n",
    "    def backward(self, X, y, output):\n",
    "        #backward propogate through the network\n",
    "        self.output_error = y - output # error in output, should I use this or something else?\n",
    "        self.output_delta = self.output_error * self.sigmoid_derivative(output)\n",
    "        \n",
    "        self.z2_error = self.output_delta.dot(self.W2.T) #in the backward Transpose of weight should be used.\n",
    "        self.z2_delta = self.z2_error * self.sigmoid_derivative(self.z2)       \n",
    "        self.W1 += self.learningrate*X.T.dot(self.z2_delta) \n",
    "        self.W2 += self.learningrate*self.z2.T.dot(self.output_delta)\n",
    "    def sigmoid_derivative(self,s): #defining the derivativer of sigmoid       \n",
    "        return s * (1 - s)\n",
    "    def train(self, X, y):\n",
    "        output = self.feedForward(X)\n",
    "        self.backward(X, y, output)\n"
   ]
  },
  {
   "cell_type": "code",
   "execution_count": null,
   "metadata": {},
   "outputs": [],
   "source": []
  },
  {
   "cell_type": "markdown",
   "metadata": {},
   "source": [
    "<b>a)Start with a hidden dimension of 20 neurons and learning rate of 0.1. Train the network for 50 epochs. After each epoch calculate the test MSE and classification accuracy"
   ]
  },
  {
   "cell_type": "code",
   "execution_count": 5,
   "metadata": {},
   "outputs": [
    {
     "name": "stdout",
     "output_type": "stream",
     "text": [
      "MSE: 0.3276085319445427\n",
      "Classification accuracy:16.666666666666668\n",
      "MSE: 0.11619812541679864\n",
      "Classification accuracy:7.5\n",
      "MSE: 0.09930665297862057\n",
      "Classification accuracy:9.444444444444445\n",
      "MSE: 0.09922765500671084\n",
      "Classification accuracy:9.444444444444445\n",
      "MSE: 0.09913684384500086\n",
      "Classification accuracy:9.444444444444445\n",
      "MSE: 0.09902976615712308\n",
      "Classification accuracy:9.444444444444445\n",
      "MSE: 0.09890149616220482\n",
      "Classification accuracy:9.444444444444445\n",
      "MSE: 0.09874551449987887\n",
      "Classification accuracy:9.444444444444445\n",
      "MSE: 0.09855279549783946\n",
      "Classification accuracy:9.444444444444445\n",
      "MSE: 0.09831653895013136\n",
      "Classification accuracy:9.444444444444445\n",
      "MSE: 0.09804302215399456\n",
      "Classification accuracy:9.444444444444445\n",
      "MSE: 0.09786273743177695\n",
      "Classification accuracy:9.444444444444445\n",
      "MSE: 0.09862471835829797\n",
      "Classification accuracy:9.444444444444445\n",
      "MSE: 0.09708919241481181\n",
      "Classification accuracy:9.444444444444445\n",
      "MSE: 0.09672002602511416\n",
      "Classification accuracy:9.444444444444445\n",
      "MSE: 0.09766123463587158\n",
      "Classification accuracy:9.444444444444445\n",
      "MSE: 0.09952149282435875\n",
      "Classification accuracy:11.11111111111111\n",
      "MSE: 0.0991881243636344\n",
      "Classification accuracy:11.11111111111111\n",
      "MSE: 0.0983886087645494\n",
      "Classification accuracy:11.11111111111111\n",
      "MSE: 0.09817328536739531\n",
      "Classification accuracy:11.11111111111111\n"
     ]
    }
   ],
   "source": [
    "NN = NeuralNetwork(0.1,20)\n",
    "epoch=range(20)\n",
    "for i in range(20): #trains the NN 1000 times\n",
    "    print(\"MSE: \" + str(np.mean(np.square(y_test - NN.feedForward(X_test)))))\n",
    "    y_hat=NN.feedForward(X_test)\n",
    "    print(\"Classification accuracy:\"+ str(accuracy(y_hat, y_test)))\n",
    "    NN.train(X_test,y_test)"
   ]
  },
  {
   "cell_type": "markdown",
   "metadata": {},
   "source": [
    "<b>B)Plot the training progress (MSE and classification accuracy for the training and test set) after each epoch."
   ]
  },
  {
   "cell_type": "code",
   "execution_count": 6,
   "metadata": {},
   "outputs": [],
   "source": [
    "NN_b_1 = NeuralNetwork(0.1,20)\n",
    "acc=[]\n",
    "MSE=[]\n",
    "for i in range(20): \n",
    "    MSE.append(np.mean(np.square(y_test - NN_b_1.feedForward(X_test))))\n",
    "    y_hat=NN_b_1.feedForward(X_test)\n",
    "    acc.append(accuracy(y_hat, y_test))\n",
    "    NN_b_1.train(X_test,y_test)"
   ]
  },
  {
   "cell_type": "code",
   "execution_count": null,
   "metadata": {},
   "outputs": [],
   "source": []
  },
  {
   "cell_type": "code",
   "execution_count": 7,
   "metadata": {},
   "outputs": [
    {
     "data": {
      "text/plain": [
       "Text(0.5, 1.0, 'Accuracy for test set')"
      ]
     },
     "execution_count": 7,
     "metadata": {},
     "output_type": "execute_result"
    },
    {
     "data": {
      "image/png": "[encoded data removed]",
      "text/plain": [
       "<Figure size 432x288 with 1 Axes>"
      ]
     },
     "metadata": {
      "needs_background": "light"
     },
     "output_type": "display_data"
    }
   ],
   "source": [
    "import matplotlib.pyplot as plt\n",
    "plt.plot(epoch,acc)\n",
    "plt.title(\"Accuracy for test set\")"
   ]
  },
  {
   "cell_type": "code",
   "execution_count": null,
   "metadata": {},
   "outputs": [],
   "source": []
  },
  {
   "cell_type": "code",
   "execution_count": 8,
   "metadata": {},
   "outputs": [
    {
     "data": {
      "text/plain": [
       "Text(0.5, 1.0, 'MSE for test set')"
      ]
     },
     "execution_count": 8,
     "metadata": {},
     "output_type": "execute_result"
    },
    {
     "data": {
      "image/png": "[encoded data removed]",
      "text/plain": [
       "<Figure size 432x288 with 1 Axes>"
      ]
     },
     "metadata": {
      "needs_background": "light"
     },
     "output_type": "display_data"
    }
   ],
   "source": [
    "plt.plot(epoch,MSE)\n",
    "plt.title(\"MSE for test set\")\n"
   ]
  },
  {
   "cell_type": "code",
   "execution_count": 9,
   "metadata": {},
   "outputs": [],
   "source": [
    "NN_b_2=NeuralNetwork(0.1,20)\n",
    "acc=[]\n",
    "MSE=[]\n",
    "for i in range(20): \n",
    "    MSE.append(np.mean(np.square(y_train - NN_b_2.feedForward(X_train))))\n",
    "    y_hat=NN_b_2.feedForward(X_train)\n",
    "    acc.append(accuracy(y_hat, y_train))\n",
    "    NN_b_2.train(X_train,y_train)"
   ]
  },
  {
   "cell_type": "code",
   "execution_count": 10,
   "metadata": {},
   "outputs": [
    {
     "data": {
      "text/plain": [
       "Text(0.5, 1.0, 'Accuracy for train set')"
      ]
     },
     "execution_count": 10,
     "metadata": {},
     "output_type": "execute_result"
    },
    {
     "data": {
      "image/png": "[encoded data removed]",
      "text/plain": [
       "<Figure size 432x288 with 1 Axes>"
      ]
     },
     "metadata": {
      "needs_background": "light"
     },
     "output_type": "display_data"
    }
   ],
   "source": [
    "import matplotlib.pyplot as plt\n",
    "plt.plot(epoch,acc)\n",
    "plt.title(\"Accuracy for train set\")"
   ]
  },
  {
   "cell_type": "code",
   "execution_count": 11,
   "metadata": {},
   "outputs": [
    {
     "data": {
      "text/plain": [
       "Text(0.5, 1.0, 'MSE for train set')"
      ]
     },
     "execution_count": 11,
     "metadata": {},
     "output_type": "execute_result"
    },
    {
     "data": {
      "image/png": "[encoded data removed]",
      "text/plain": [
       "<Figure size 432x288 with 1 Axes>"
      ]
     },
     "metadata": {
      "needs_background": "light"
     },
     "output_type": "display_data"
    }
   ],
   "source": [
    "plt.plot(epoch,MSE)\n",
    "plt.title(\"MSE for train set\")\n"
   ]
  },
  {
   "cell_type": "markdown",
   "metadata": {},
   "source": [
    "<b>C) Which of the two metrics is the most interesting when performing classification? Explain "
   ]
  },
  {
   "cell_type": "markdown",
   "metadata": {},
   "source": [
    "Since we are doing the classification, the accuracy metrics is better. Because it shows what percentage of y is classified correctly.  "
   ]
  },
  {
   "cell_type": "markdown",
   "metadata": {},
   "source": [
    "<b>D)Change the number of training epochs. After which epoch do you consider the network as ”fully trained” and why?"
   ]
  },
  {
   "cell_type": "code",
   "execution_count": 12,
   "metadata": {},
   "outputs": [
    {
     "data": {
      "text/plain": [
       "Text(0.5, 1.0, 'acc for train set')"
      ]
     },
     "execution_count": 12,
     "metadata": {},
     "output_type": "execute_result"
    },
    {
     "data": {
      "image/png": "[encoded data removed]",
      "text/plain": [
       "<Figure size 432x288 with 1 Axes>"
      ]
     },
     "metadata": {
      "needs_background": "light"
     },
     "output_type": "display_data"
    }
   ],
   "source": [
    "NN_c_1=NeuralNetwork(0.1,20)\n",
    "acc=[]\n",
    "MSE=[]\n",
    "for i in range(2000): \n",
    "    MSE.append(np.mean(np.square(y_train - NN_c_1.feedForward(X_train))))\n",
    "    y_hat=NN_c_1.feedForward(X_train)\n",
    "    acc.append(accuracy(y_train, y_hat))\n",
    "    NN_c_1.train(X_train,y_train)\n",
    "epoch=range(2000)\n",
    "plt.plot(epoch,acc)\n",
    "plt.title(\"acc for train set\")"
   ]
  },
  {
   "cell_type": "markdown",
   "metadata": {},
   "source": [
    "The convergence happens around 200 epoch. but the accuracy is very low and only can predict 10 percent correctly. I do not consider it fully train because the accuracy is very low."
   ]
  },
  {
   "cell_type": "markdown",
   "metadata": {},
   "source": [
    "<b> E) Set the learning rate to 0.001. Is the performance higher or lower compared to a learning rate of 0.1? Explain why."
   ]
  },
  {
   "cell_type": "code",
   "execution_count": 13,
   "metadata": {},
   "outputs": [
    {
     "data": {
      "text/plain": [
       "Text(0.5, 1.0, 'acc for train set')"
      ]
     },
     "execution_count": 13,
     "metadata": {},
     "output_type": "execute_result"
    },
    {
     "data": {
      "image/png": "[encoded data removed]",
      "text/plain": [
       "<Figure size 432x288 with 1 Axes>"
      ]
     },
     "metadata": {
      "needs_background": "light"
     },
     "output_type": "display_data"
    }
   ],
   "source": [
    "NN_e_1=NeuralNetwork(0.001,20)\n",
    "acc=[]\n",
    "MSE=[]\n",
    "for i in range(2000): \n",
    "    MSE.append(np.mean(np.square(y_train - NN_e_1.feedForward(X_train))))\n",
    "    y_hat=NN_e_1.feedForward(X_train)\n",
    "    acc.append(accuracy(y_train, y_hat))\n",
    "    NN_e_1.train(X_train,y_train)\n",
    "epoch=range(2000)\n",
    "plt.plot(epoch,acc)\n",
    "plt.title(\"acc for train set\")"
   ]
  },
  {
   "cell_type": "code",
   "execution_count": null,
   "metadata": {},
   "outputs": [],
   "source": []
  },
  {
   "cell_type": "markdown",
   "metadata": {},
   "source": [
    "0.001 is much better that 0.1 because it does not increase the weights a lot so we can find the convergence. Also the accuracy score is close to one which suggests that our model performs better.  in the next plot I am going to increase the epoch to 4000 to see if it shows any convergence"
   ]
  },
  {
   "cell_type": "code",
   "execution_count": 14,
   "metadata": {},
   "outputs": [
    {
     "data": {
      "text/plain": [
       "Text(0.5, 1.0, 'acc for train set')"
      ]
     },
     "execution_count": 14,
     "metadata": {},
     "output_type": "execute_result"
    },
    {
     "data": {
      "image/png": "[encoded data removed]",
      "text/plain": [
       "<Figure size 432x288 with 1 Axes>"
      ]
     },
     "metadata": {
      "needs_background": "light"
     },
     "output_type": "display_data"
    }
   ],
   "source": [
    "NN_e_2=NeuralNetwork(0.001,20)\n",
    "acc=[]\n",
    "MSE=[]\n",
    "for i in range(4000): \n",
    "    MSE.append(np.mean(np.square(y_train - NN_e_2.feedForward(X_train))))\n",
    "    y_hat=NN_e_2.feedForward(X_train)\n",
    "    acc.append(accuracy(y_train, y_hat))\n",
    "    NN_e_2.train(X_train,y_train)\n",
    "epoch=range(4000)\n",
    "plt.plot(epoch,acc)\n",
    "plt.title(\"acc for train set\")"
   ]
  },
  {
   "cell_type": "markdown",
   "metadata": {},
   "source": [
    "We can see convergence in the above graph. so I think the learning rate should be around 0.001"
   ]
  },
  {
   "cell_type": "markdown",
   "metadata": {},
   "source": [
    "<b> F) Set the learning rate to 10. Explain the effect"
   ]
  },
  {
   "cell_type": "code",
   "execution_count": 15,
   "metadata": {},
   "outputs": [
    {
     "name": "stderr",
     "output_type": "stream",
     "text": [
      "<ipython-input-1-6cf07e9990b3>:9: RuntimeWarning: overflow encountered in exp\n",
      "  y = 1./(1+np.exp(-x));\n"
     ]
    },
    {
     "data": {
      "text/plain": [
       "Text(0.5, 1.0, 'acc for train set')"
      ]
     },
     "execution_count": 15,
     "metadata": {},
     "output_type": "execute_result"
    },
    {
     "data": {
      "image/png": "[encoded data removed]",
      "text/plain": [
       "<Figure size 432x288 with 1 Axes>"
      ]
     },
     "metadata": {
      "needs_background": "light"
     },
     "output_type": "display_data"
    }
   ],
   "source": [
    "NN_f_1=NeuralNetwork(1,20)\n",
    "acc=[]\n",
    "MSE=[]\n",
    "for i in range(2000): \n",
    "    MSE.append(np.mean(np.square(y_train - NN_f_1.feedForward(X_train))))\n",
    "    y_hat=NN_f_1.feedForward(X_train)\n",
    "    acc.append(accuracy(y_train, y_hat))\n",
    "    NN_f_1.train(X_train,y_train)\n",
    "epoch=range(2000)\n",
    "plt.plot(epoch,acc)\n",
    "plt.title(\"acc for train set\")"
   ]
  },
  {
   "cell_type": "markdown",
   "metadata": {},
   "source": [
    "It has very bad effect on finding the convergence point.  learning rate=1 causes the model to converge too quickly to a suboptimal point while missing the optimal value. "
   ]
  },
  {
   "cell_type": "markdown",
   "metadata": {},
   "source": [
    "<b>G) Go back to the working training configuration in (a). Set the number of neurons of the hidden layer to 2. Explain the effect"
   ]
  },
  {
   "cell_type": "code",
   "execution_count": 16,
   "metadata": {},
   "outputs": [
    {
     "data": {
      "text/plain": [
       "Text(0.5, 1.0, 'acc for train set')"
      ]
     },
     "execution_count": 16,
     "metadata": {},
     "output_type": "execute_result"
    },
    {
     "data": {
      "image/png": "[encoded data removed]",
      "text/plain": [
       "<Figure size 432x288 with 1 Axes>"
      ]
     },
     "metadata": {
      "needs_background": "light"
     },
     "output_type": "display_data"
    }
   ],
   "source": [
    "NN_g=NeuralNetwork(0.1,2)\n",
    "acc=[]\n",
    "MSE=[]\n",
    "for i in range(20): \n",
    "    MSE.append(np.mean(np.square(y_train - NN_g.feedForward(X_train))))\n",
    "    y_hat=NN_g.feedForward(X_train)\n",
    "    acc.append(accuracy(y_train, y_hat))\n",
    "    NN_g.train(X_train,y_train)\n",
    "epoch=range(20)\n",
    "plt.plot(epoch,acc)\n",
    "plt.title(\"acc for train set\")"
   ]
  },
  {
   "cell_type": "markdown",
   "metadata": {},
   "source": [
    "It seems that the number accuracy does not change after 2 iterations which is interesting. With 2 neurons in the hidden layer and 20 iterations the model can only explain 10 percent correctly"
   ]
  },
  {
   "cell_type": "markdown",
   "metadata": {},
   "source": [
    "<b>h) Go back to the working training configuration in (a). Set the number of neurons of the hidden layer to 200. Explain the effect"
   ]
  },
  {
   "cell_type": "code",
   "execution_count": 17,
   "metadata": {},
   "outputs": [
    {
     "data": {
      "text/plain": [
       "Text(0.5, 1.0, 'acc for train set')"
      ]
     },
     "execution_count": 17,
     "metadata": {},
     "output_type": "execute_result"
    },
    {
     "data": {
      "image/png": "[encoded data removed]",
      "text/plain": [
       "<Figure size 432x288 with 1 Axes>"
      ]
     },
     "metadata": {
      "needs_background": "light"
     },
     "output_type": "display_data"
    }
   ],
   "source": [
    "NN_h=NeuralNetwork(0.1,200)\n",
    "acc=[]\n",
    "MSE=[]\n",
    "for i in range(20): \n",
    "    MSE.append(np.mean(np.square(y_train - NN_h.feedForward(X_train))))\n",
    "    y_hat=NN_h.feedForward(X_train)\n",
    "    acc.append(accuracy(y_train, y_hat))\n",
    "    NN_h.train(X_train,y_train)\n",
    "epoch=range(20)\n",
    "plt.plot(epoch,acc)\n",
    "plt.title(\"acc for train set\")"
   ]
  },
  {
   "cell_type": "markdown",
   "metadata": {},
   "source": [
    "As we can see in the above graph, increasing the number of neorons make the graph to converge to 17 percent. this is a quite small number for the accuracy though. This means out model after 20 iterations and with 200 hiden layer can only predict 17 percent correctly. "
   ]
  },
  {
   "cell_type": "code",
   "execution_count": null,
   "metadata": {},
   "outputs": [],
   "source": []
  },
  {
   "cell_type": "code",
   "execution_count": null,
   "metadata": {},
   "outputs": [],
   "source": []
  },
  {
   "cell_type": "code",
   "execution_count": null,
   "metadata": {},
   "outputs": [],
   "source": []
  },
  {
   "cell_type": "markdown",
   "metadata": {},
   "source": [
    "# optimal"
   ]
  },
  {
   "cell_type": "code",
   "execution_count": 38,
   "metadata": {},
   "outputs": [
    {
     "data": {
      "text/plain": [
       "Text(0.5, 1.0, 'acc for train set')"
      ]
     },
     "execution_count": 38,
     "metadata": {},
     "output_type": "execute_result"
    },
    {
     "data": {
      "image/png": "[encoded data removed]",
      "text/plain": [
       "<Figure size 432x288 with 1 Axes>"
      ]
     },
     "metadata": {
      "needs_background": "light"
     },
     "output_type": "display_data"
    }
   ],
   "source": [
    "NN_z_1=NeuralNetwork(0.005,20)\n",
    "acc=[]\n",
    "MSE=[]\n",
    "for i in range(500): \n",
    "    MSE.append(np.mean(np.square(y_train - NN_z_1.feedForward(X_train))))\n",
    "    y_hat=NN_z_1.feedForward(X_train)\n",
    "    acc.append(accuracy(y_train, y_hat))\n",
    "    NN_z_1.train(X_train,y_train)\n",
    "epoch=range(500)\n",
    "plt.plot(epoch,acc)\n",
    "plt.title(\"acc for train set\")"
   ]
  },
  {
   "cell_type": "markdown",
   "metadata": {},
   "source": [
    "I plotted the optimal alpha and epoch just because I was curious "
   ]
  },
  {
   "cell_type": "code",
   "execution_count": null,
   "metadata": {},
   "outputs": [],
   "source": []
  },
  {
   "cell_type": "code",
   "execution_count": null,
   "metadata": {},
   "outputs": [],
   "source": []
  },
  {
   "cell_type": "code",
   "execution_count": null,
   "metadata": {},
   "outputs": [],
   "source": []
  }
 ],
 "metadata": {
  "kernelspec": {
   "display_name": "Python 3",
   "language": "python",
   "name": "python3"
  },
  "language_info": {
   "codemirror_mode": {
    "name": "ipython",
    "version": 3
   },
   "file_extension": ".py",
   "mimetype": "text/x-python",
   "name": "python",
   "nbconvert_exporter": "python",
   "pygments_lexer": "ipython3",
   "version": "3.8.8"
  }
 },
 "nbformat": 4,
 "nbformat_minor": 2
}
