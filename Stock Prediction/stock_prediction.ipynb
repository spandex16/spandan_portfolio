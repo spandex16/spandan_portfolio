{
 "cells": [
  {
   "cell_type": "code",
   "execution_count": 46,
   "id": "8317b23b",
   "metadata": {},
   "outputs": [],
   "source": [
    "import pandas as pd\n",
    "import numpy as np\n",
    "import matplotlib as plt\n",
    "from scipy import stats\n",
    "import joblib\n",
    "from sklearn.linear_model import LinearRegression "
   ]
  },
  {
   "cell_type": "code",
   "execution_count": 2,
   "id": "96462d52",
   "metadata": {},
   "outputs": [
    {
     "data": {
      "text/html": [
       "<div>\n",
       "<style scoped>\n",
       "    .dataframe tbody tr th:only-of-type {\n",
       "        vertical-align: middle;\n",
       "    }\n",
       "\n",
       "    .dataframe tbody tr th {\n",
       "        vertical-align: top;\n",
       "    }\n",
       "\n",
       "    .dataframe thead th {\n",
       "        text-align: right;\n",
       "    }\n",
       "</style>\n",
       "<table border=\"1\" class=\"dataframe\">\n",
       "  <thead>\n",
       "    <tr style=\"text-align: right;\">\n",
       "      <th></th>\n",
       "      <th>RowId</th>\n",
       "      <th>Date</th>\n",
       "      <th>SecuritiesCode</th>\n",
       "      <th>Open</th>\n",
       "      <th>High</th>\n",
       "      <th>Low</th>\n",
       "      <th>Close</th>\n",
       "      <th>Volume</th>\n",
       "      <th>AdjustmentFactor</th>\n",
       "      <th>ExpectedDividend</th>\n",
       "      <th>SupervisionFlag</th>\n",
       "      <th>Target</th>\n",
       "    </tr>\n",
       "  </thead>\n",
       "  <tbody>\n",
       "    <tr>\n",
       "      <th>0</th>\n",
       "      <td>20170104_1301</td>\n",
       "      <td>2017-01-04</td>\n",
       "      <td>1301</td>\n",
       "      <td>2734.0</td>\n",
       "      <td>2755.0</td>\n",
       "      <td>2730.0</td>\n",
       "      <td>2742.0</td>\n",
       "      <td>31400</td>\n",
       "      <td>1.0</td>\n",
       "      <td>NaN</td>\n",
       "      <td>False</td>\n",
       "      <td>0.000730</td>\n",
       "    </tr>\n",
       "    <tr>\n",
       "      <th>1</th>\n",
       "      <td>20170104_1332</td>\n",
       "      <td>2017-01-04</td>\n",
       "      <td>1332</td>\n",
       "      <td>568.0</td>\n",
       "      <td>576.0</td>\n",
       "      <td>563.0</td>\n",
       "      <td>571.0</td>\n",
       "      <td>2798500</td>\n",
       "      <td>1.0</td>\n",
       "      <td>NaN</td>\n",
       "      <td>False</td>\n",
       "      <td>0.012324</td>\n",
       "    </tr>\n",
       "    <tr>\n",
       "      <th>2</th>\n",
       "      <td>20170104_1333</td>\n",
       "      <td>2017-01-04</td>\n",
       "      <td>1333</td>\n",
       "      <td>3150.0</td>\n",
       "      <td>3210.0</td>\n",
       "      <td>3140.0</td>\n",
       "      <td>3210.0</td>\n",
       "      <td>270800</td>\n",
       "      <td>1.0</td>\n",
       "      <td>NaN</td>\n",
       "      <td>False</td>\n",
       "      <td>0.006154</td>\n",
       "    </tr>\n",
       "    <tr>\n",
       "      <th>3</th>\n",
       "      <td>20170104_1376</td>\n",
       "      <td>2017-01-04</td>\n",
       "      <td>1376</td>\n",
       "      <td>1510.0</td>\n",
       "      <td>1550.0</td>\n",
       "      <td>1510.0</td>\n",
       "      <td>1550.0</td>\n",
       "      <td>11300</td>\n",
       "      <td>1.0</td>\n",
       "      <td>NaN</td>\n",
       "      <td>False</td>\n",
       "      <td>0.011053</td>\n",
       "    </tr>\n",
       "    <tr>\n",
       "      <th>4</th>\n",
       "      <td>20170104_1377</td>\n",
       "      <td>2017-01-04</td>\n",
       "      <td>1377</td>\n",
       "      <td>3270.0</td>\n",
       "      <td>3350.0</td>\n",
       "      <td>3270.0</td>\n",
       "      <td>3330.0</td>\n",
       "      <td>150800</td>\n",
       "      <td>1.0</td>\n",
       "      <td>NaN</td>\n",
       "      <td>False</td>\n",
       "      <td>0.003026</td>\n",
       "    </tr>\n",
       "  </tbody>\n",
       "</table>\n",
       "</div>"
      ],
      "text/plain": [
       "           RowId        Date  SecuritiesCode    Open    High     Low   Close  \\\n",
       "0  20170104_1301  2017-01-04            1301  2734.0  2755.0  2730.0  2742.0   \n",
       "1  20170104_1332  2017-01-04            1332   568.0   576.0   563.0   571.0   \n",
       "2  20170104_1333  2017-01-04            1333  3150.0  3210.0  3140.0  3210.0   \n",
       "3  20170104_1376  2017-01-04            1376  1510.0  1550.0  1510.0  1550.0   \n",
       "4  20170104_1377  2017-01-04            1377  3270.0  3350.0  3270.0  3330.0   \n",
       "\n",
       "    Volume  AdjustmentFactor  ExpectedDividend  SupervisionFlag    Target  \n",
       "0    31400               1.0               NaN            False  0.000730  \n",
       "1  2798500               1.0               NaN            False  0.012324  \n",
       "2   270800               1.0               NaN            False  0.006154  \n",
       "3    11300               1.0               NaN            False  0.011053  \n",
       "4   150800               1.0               NaN            False  0.003026  "
      ]
     },
     "execution_count": 2,
     "metadata": {},
     "output_type": "execute_result"
    }
   ],
   "source": [
    "df_train = pd.read_csv(\"train_files/stock_prices.csv\")\n",
    "df_train_secondary = pd.read_csv(\"train_files/secondary_stock_prices.csv\")\n",
    "df_train_supplement = pd.read_csv(\"supplemental_files/stock_prices.csv\")\n",
    "df_train_supplement_secondary = pd.read_csv(\"supplemental_files/secondary_stock_prices.csv\")\n",
    "df_train = df_train.append(df_train_secondary)\n",
    "df_train = df_train.append(df_train_supplement)\n",
    "df_train = df_train.append(df_train_supplement_secondary)\n",
    "df_train.head()"
   ]
  },
  {
   "cell_type": "code",
   "execution_count": 25,
   "id": "51c8e69d",
   "metadata": {},
   "outputs": [],
   "source": [
    "df_test = pd.read_csv(\"example_test_files/stock_prices.csv\")\n",
    "df_test_secondary = pd.read_csv(\"example_test_files/secondary_stock_prices.csv\")\n",
    "df_test = df_test.append(df_train_secondary)"
   ]
  },
  {
   "cell_type": "markdown",
   "id": "105bf89d",
   "metadata": {},
   "source": [
    "## Model"
   ]
  },
  {
   "cell_type": "code",
   "execution_count": 11,
   "id": "28eca84b",
   "metadata": {
    "scrolled": true
   },
   "outputs": [],
   "source": [
    "def features_train(data):\n",
    "    # turning the string into the datetime readable format\n",
    "    data['Date'] = pd.to_datetime(data['Date'])\n",
    "    # filling the blank expected dividends and targets to 0\n",
    "    data['ExpectedDividend'] = data['ExpectedDividend'].fillna(0)\n",
    "    data['Target'] = data['Target'].fillna(0)\n",
    "    # changing the boolean into an integer so data is easier to work with\n",
    "    data[\"SupervisionFlag\"] = data[\"SupervisionFlag\"].astype(int)\n",
    "    \n",
    "    # using both forward fill and backworkd fill to ensure there is no missing data\n",
    "    cols = ['Open', 'High', 'Low', 'Close']\n",
    "    data.loc[:,cols] = data.loc[:,cols].ffill()\n",
    "    data.loc[:,cols] = data.loc[:,cols].bfill()\n",
    "    \n",
    "    # Calculating the range of the values and then working out the mean\n",
    "    data['Daily_Range'] = data['Close'] - data['Open']\n",
    "    data['Mean'] = (data['High']+data['Low']) / 2\n",
    "    data['Mean'] = data['Mean'].astype(int)\n",
    "    \n",
    "    # Now we need to standardize the data as this could produce anomalies in having weird extremes\n",
    "    data['Open'] = stats.zscore(data['Open'])\n",
    "    data['High'] = stats.zscore(data['High'])\n",
    "    data['Low'] = stats.zscore(data['Low'])\n",
    "    data['Close'] = stats.zscore(data['Close'])\n",
    "    data['Volume'] = stats.zscore(data['Volume'])\n",
    "    data['Daily_Range'] = stats.zscore(data['Daily_Range'])\n",
    "    data['Mean'] = stats.zscore(data['Mean'])\n",
    "    \n",
    "    # now we need to drop rowid as it is useless\n",
    "    data = data.drop(['RowId'], axis=1)\n",
    "    \n",
    "    return data"
   ]
  },
  {
   "cell_type": "code",
   "execution_count": 12,
   "id": "88bb51b0",
   "metadata": {},
   "outputs": [],
   "source": [
    "data = features_train(df_train)\n",
    "\n",
    "# now we need to split the data\n",
    "data_train = data[data['Date']<'2022-04-01']\n",
    "data_test = data[data['Date']>'2022-04-01']\n",
    "data_test = data_test.reset_index(drop=True)\n",
    "data_train = data_train.drop(['Date'], axis=1)\n",
    "data_test = data_test.drop(['Date'], axis=1)\n",
    "\n",
    "X_train = data_train.drop(['Target'], axis=1)\n",
    "y_train = data_train['Target']\n",
    "X_test = data_test.drop(['Target'], axis=1)\n",
    "y_test = data_test['Target']"
   ]
  },
  {
   "cell_type": "code",
   "execution_count": 16,
   "id": "fff98bb0",
   "metadata": {
    "scrolled": true
   },
   "outputs": [
    {
     "data": {
      "text/plain": [
       "LinearRegression()"
      ]
     },
     "execution_count": 16,
     "metadata": {},
     "output_type": "execute_result"
    }
   ],
   "source": [
    "# using a simple linear regression model\n",
    "model = LinearRegression()\n",
    "model.fit(X_train, y_train)\n",
    "LinearRegression()"
   ]
  },
  {
   "cell_type": "code",
   "execution_count": 19,
   "id": "fc5d1b7e",
   "metadata": {},
   "outputs": [
    {
     "name": "stdout",
     "output_type": "stream",
     "text": [
      "[-1.89119715e-08 -1.46658118e-02  2.27692986e+00  2.23630177e+00\n",
      " -1.46692120e-02 -4.96802598e-05 -6.47025014e-05 -4.06906116e-06\n",
      "  2.45244447e-04 -1.88378247e-04 -4.48381175e+00]\n"
     ]
    }
   ],
   "source": [
    "print(model.coef_) # Partial Regression Coefficients"
   ]
  },
  {
   "cell_type": "code",
   "execution_count": 20,
   "id": "60da5a32",
   "metadata": {},
   "outputs": [
    {
     "name": "stdout",
     "output_type": "stream",
     "text": [
      "0.0005079483293951115\n"
     ]
    }
   ],
   "source": [
    "print(model.intercept_) # Intercept of the regression line"
   ]
  },
  {
   "cell_type": "code",
   "execution_count": 21,
   "id": "7fc34c68",
   "metadata": {},
   "outputs": [
    {
     "name": "stdout",
     "output_type": "stream",
     "text": [
      "[ 4.53423354e-04  3.72772007e-04  4.43608414e-04 ...  2.30410017e-04\n",
      "  2.96281695e-04 -6.97164493e-05]\n"
     ]
    }
   ],
   "source": [
    "print(model.predict(X_test)) # Predicted values"
   ]
  },
  {
   "cell_type": "code",
   "execution_count": 22,
   "id": "8dd7709a",
   "metadata": {},
   "outputs": [
    {
     "name": "stdout",
     "output_type": "stream",
     "text": [
      "-0.008264231859545612\n"
     ]
    }
   ],
   "source": [
    "print(model.score(X_test, y_test)) # gives a rating in order to comapre models"
   ]
  },
  {
   "cell_type": "code",
   "execution_count": 23,
   "id": "09e12a9f",
   "metadata": {},
   "outputs": [
    {
     "data": {
      "text/plain": [
       "['learning model']"
      ]
     },
     "execution_count": 23,
     "metadata": {},
     "output_type": "execute_result"
    }
   ],
   "source": [
    "joblib.dump(model,\"learning model\")"
   ]
  },
  {
   "cell_type": "code",
   "execution_count": 40,
   "id": "001d8930",
   "metadata": {},
   "outputs": [],
   "source": [
    "#repeat the same for test data\n",
    "\n",
    "def features_test(data):\n",
    "    # turning the string into the datetime readable format\n",
    "    data['Date'] = pd.to_datetime(data['Date'])\n",
    "    # filling the blank expected dividends and targets to 0\n",
    "    data['ExpectedDividend'] = data['ExpectedDividend'].fillna(0)\n",
    "    data['Target'] = data['Target'].fillna(0)\n",
    "    # changing the boolean into an integer so data is easier to work with\n",
    "    data[\"SupervisionFlag\"] = data[\"SupervisionFlag\"].astype(int)\n",
    "    \n",
    "    # using both forward fill and backworkd fill to ensure there is no missing data\n",
    "    cols = ['Open', 'High', 'Low', 'Close']\n",
    "    data.loc[:,cols] = data.loc[:,cols].ffill()\n",
    "    data.loc[:,cols] = data.loc[:,cols].bfill()\n",
    "    \n",
    "    # Calculating the range of the values and then working out the mean\n",
    "    data['Daily_Range'] = data['Close'] - data['Open']\n",
    "    data['Mean'] = (data['High']+data['Low']) / 2\n",
    "    data['Mean'] = data['Mean'].astype(int)\n",
    "    \n",
    "    # Now we need to standardize the data as this could produce anomalies in having weird extremes\n",
    "    data['Open'] = stats.zscore(data['Open'])\n",
    "    data['High'] = stats.zscore(data['High'])\n",
    "    data['Low'] = stats.zscore(data['Low'])\n",
    "    data['Close'] = stats.zscore(data['Close'])\n",
    "    data['Volume'] = stats.zscore(data['Volume'])\n",
    "    data['Daily_Range'] = stats.zscore(data['Daily_Range'])\n",
    "    data['Mean'] = stats.zscore(data['Mean'])\n",
    "    \n",
    "    # now we need to drop rowid as it is useless\n",
    "    data = data.drop(['RowId', 'Date'], axis=1)\n",
    "    \n",
    "    return data"
   ]
  },
  {
   "cell_type": "code",
   "execution_count": 44,
   "id": "0cf9864e",
   "metadata": {},
   "outputs": [
    {
     "data": {
      "text/html": [
       "<div>\n",
       "<style scoped>\n",
       "    .dataframe tbody tr th:only-of-type {\n",
       "        vertical-align: middle;\n",
       "    }\n",
       "\n",
       "    .dataframe tbody tr th {\n",
       "        vertical-align: top;\n",
       "    }\n",
       "\n",
       "    .dataframe thead th {\n",
       "        text-align: right;\n",
       "    }\n",
       "</style>\n",
       "<table border=\"1\" class=\"dataframe\">\n",
       "  <thead>\n",
       "    <tr style=\"text-align: right;\">\n",
       "      <th></th>\n",
       "      <th>SecuritiesCode</th>\n",
       "      <th>Rank</th>\n",
       "    </tr>\n",
       "  </thead>\n",
       "  <tbody>\n",
       "    <tr>\n",
       "      <th>187929</th>\n",
       "      <td>25935</td>\n",
       "      <td>500144</td>\n",
       "    </tr>\n",
       "    <tr>\n",
       "      <th>15134</th>\n",
       "      <td>25935</td>\n",
       "      <td>595132</td>\n",
       "    </tr>\n",
       "    <tr>\n",
       "      <th>409695</th>\n",
       "      <td>25935</td>\n",
       "      <td>553154</td>\n",
       "    </tr>\n",
       "    <tr>\n",
       "      <th>113593</th>\n",
       "      <td>25935</td>\n",
       "      <td>498749</td>\n",
       "    </tr>\n",
       "    <tr>\n",
       "      <th>1693706</th>\n",
       "      <td>25935</td>\n",
       "      <td>540465</td>\n",
       "    </tr>\n",
       "  </tbody>\n",
       "</table>\n",
       "</div>"
      ],
      "text/plain": [
       "         SecuritiesCode    Rank\n",
       "187929            25935  500144\n",
       "15134             25935  595132\n",
       "409695            25935  553154\n",
       "113593            25935  498749\n",
       "1693706           25935  540465"
      ]
     },
     "execution_count": 44,
     "metadata": {},
     "output_type": "execute_result"
    }
   ],
   "source": [
    "#predictions = pd.DataFrame()\n",
    "x_test = features_test(df_test)\n",
    "y_pred = model.predict(x_test.drop(['Target'], axis=1))\n",
    "\n",
    "x_test['Target'] = y_pred\n",
    "x_test = x_test.sort_values(by = \"Target\", ascending = False)\n",
    "x_test['Rank'] = np.arange(len(x_test.index))\n",
    "x_test = x_test.sort_values(by = \"SecuritiesCode\", ascending = True)\n",
    "\n",
    "final_df = x_test[[\"SecuritiesCode\", \"Rank\"]]\n",
    "final_df.tail()"
   ]
  },
  {
   "cell_type": "code",
   "execution_count": null,
   "id": "bba55ae1",
   "metadata": {},
   "outputs": [],
   "source": []
  },
  {
   "cell_type": "code",
   "execution_count": null,
   "id": "5a47e3b9",
   "metadata": {},
   "outputs": [],
   "source": []
  },
  {
   "cell_type": "code",
   "execution_count": null,
   "id": "16a360cb",
   "metadata": {},
   "outputs": [],
   "source": []
  }
 ],
 "metadata": {
  "kernelspec": {
   "display_name": "Python 3",
   "language": "python",
   "name": "python3"
  },
  "language_info": {
   "codemirror_mode": {
    "name": "ipython",
    "version": 3
   },
   "file_extension": ".py",
   "mimetype": "text/x-python",
   "name": "python",
   "nbconvert_exporter": "python",
   "pygments_lexer": "ipython3",
   "version": "3.8.8"
  }
 },
 "nbformat": 4,
 "nbformat_minor": 5
}
